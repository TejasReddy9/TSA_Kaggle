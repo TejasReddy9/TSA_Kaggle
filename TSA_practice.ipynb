{
 "cells": [
  {
   "cell_type": "code",
   "execution_count": 7,
   "metadata": {},
   "outputs": [],
   "source": [
    "import numpy as np\n",
    "import os\n",
    "import matplotlib"
   ]
  },
  {
   "cell_type": "code",
   "execution_count": 8,
   "metadata": {},
   "outputs": [],
   "source": [
    "# From William Curkierski Kaggle Kernal 'Reading images'\n",
    "def read_header(infile):\n",
    "    \"\"\"Read image header (first 512 bytes)\n",
    "    \"\"\"\n",
    "    h = dict()\n",
    "    fid = open(infile, 'r+b')\n",
    "    h['filename'] = b''.join(np.fromfile(fid, dtype = 'S1', count = 20))\n",
    "    h['parent_filename'] = b''.join(np.fromfile(fid, dtype = 'S1', count = 20))\n",
    "    h['comments1'] = b''.join(np.fromfile(fid, dtype = 'S1', count = 80))\n",
    "    h['comments2'] = b''.join(np.fromfile(fid, dtype = 'S1', count = 80))\n",
    "    h['energy_type'] = np.fromfile(fid, dtype = np.int16, count = 1)\n",
    "    h['config_type'] = np.fromfile(fid, dtype = np.int16, count = 1)\n",
    "    h['file_type'] = np.fromfile(fid, dtype = np.int16, count = 1)\n",
    "    h['trans_type'] = np.fromfile(fid, dtype = np.int16, count = 1)\n",
    "    h['scan_type'] = np.fromfile(fid, dtype = np.int16, count = 1)\n",
    "    h['data_type'] = np.fromfile(fid, dtype = np.int16, count = 1)\n",
    "    h['date_modified'] = b''.join(np.fromfile(fid, dtype = 'S1', count = 16))\n",
    "    h['frequency'] = np.fromfile(fid, dtype = np.float32, count = 1)\n",
    "    h['mat_velocity'] = np.fromfile(fid, dtype = np.float32, count = 1)\n",
    "    h['num_pts'] = np.fromfile(fid, dtype = np.int32, count = 1)\n",
    "    h['num_polarization_channels'] = np.fromfile(fid, dtype = np.int16, count = 1)\n",
    "    h['spare00'] = np.fromfile(fid, dtype = np.int16, count = 1)\n",
    "    h['adc_min_voltage'] = np.fromfile(fid, dtype = np.float32, count = 1)\n",
    "    h['adc_max_voltage'] = np.fromfile(fid, dtype = np.float32, count = 1)\n",
    "    h['band_width'] = np.fromfile(fid, dtype = np.float32, count = 1)\n",
    "    h['spare01'] = np.fromfile(fid, dtype = np.int16, count = 5)\n",
    "    h['polarization_type'] = np.fromfile(fid, dtype = np.int16, count = 4)\n",
    "    h['record_header_size'] = np.fromfile(fid, dtype = np.int16, count = 1)\n",
    "    h['word_type'] = np.fromfile(fid, dtype = np.int16, count = 1)\n",
    "    h['word_precision'] = np.fromfile(fid, dtype = np.int16, count = 1)\n",
    "    h['min_data_value'] = np.fromfile(fid, dtype = np.float32, count = 1)\n",
    "    h['max_data_value'] = np.fromfile(fid, dtype = np.float32, count = 1)\n",
    "    h['avg_data_value'] = np.fromfile(fid, dtype = np.float32, count = 1)\n",
    "    h['data_scale_factor'] = np.fromfile(fid, dtype = np.float32, count = 1)\n",
    "    h['data_units'] = np.fromfile(fid, dtype = np.int16, count = 1)\n",
    "    h['surf_removal'] = np.fromfile(fid, dtype = np.uint16, count = 1)\n",
    "    h['edge_weighting'] = np.fromfile(fid, dtype = np.uint16, count = 1)\n",
    "    h['x_units'] = np.fromfile(fid, dtype = np.uint16, count = 1)\n",
    "    h['y_units'] = np.fromfile(fid, dtype = np.uint16, count = 1)\n",
    "    h['z_units'] = np.fromfile(fid, dtype = np.uint16, count = 1)\n",
    "    h['t_units'] = np.fromfile(fid, dtype = np.uint16, count = 1)\n",
    "    h['spare02'] = np.fromfile(fid, dtype = np.int16, count = 1)\n",
    "    h['x_return_speed'] = np.fromfile(fid, dtype = np.float32, count = 1)\n",
    "    h['y_return_speed'] = np.fromfile(fid, dtype = np.float32, count = 1)\n",
    "    h['z_return_speed'] = np.fromfile(fid, dtype = np.float32, count = 1)\n",
    "    h['scan_orientation'] = np.fromfile(fid, dtype = np.int16, count = 1)\n",
    "    h['scan_direction'] = np.fromfile(fid, dtype = np.int16, count = 1)\n",
    "    h['data_storage_order'] = np.fromfile(fid, dtype = np.int16, count = 1)\n",
    "    h['scanner_type'] = np.fromfile(fid, dtype = np.int16, count = 1)\n",
    "    h['x_inc'] = np.fromfile(fid, dtype = np.float32, count = 1)\n",
    "    h['y_inc'] = np.fromfile(fid, dtype = np.float32, count = 1)\n",
    "    h['z_inc'] = np.fromfile(fid, dtype = np.float32, count = 1)\n",
    "    h['t_inc'] = np.fromfile(fid, dtype = np.float32, count = 1)\n",
    "    h['num_x_pts'] = np.fromfile(fid, dtype = np.int32, count = 1)\n",
    "    h['num_y_pts'] = np.fromfile(fid, dtype = np.int32, count = 1)\n",
    "    h['num_z_pts'] = np.fromfile(fid, dtype = np.int32, count = 1)\n",
    "    h['num_t_pts'] = np.fromfile(fid, dtype = np.int32, count = 1)\n",
    "    h['x_speed'] = np.fromfile(fid, dtype = np.float32, count = 1)\n",
    "    h['y_speed'] = np.fromfile(fid, dtype = np.float32, count = 1)\n",
    "    h['z_speed'] = np.fromfile(fid, dtype = np.float32, count = 1)\n",
    "    h['x_acc'] = np.fromfile(fid, dtype = np.float32, count = 1)\n",
    "    h['y_acc'] = np.fromfile(fid, dtype = np.float32, count = 1)\n",
    "    h['z_acc'] = np.fromfile(fid, dtype = np.float32, count = 1)\n",
    "    h['x_motor_res'] = np.fromfile(fid, dtype = np.float32, count = 1)\n",
    "    h['y_motor_res'] = np.fromfile(fid, dtype = np.float32, count = 1)\n",
    "    h['z_motor_res'] = np.fromfile(fid, dtype = np.float32, count = 1)\n",
    "    h['x_encoder_res'] = np.fromfile(fid, dtype = np.float32, count = 1)\n",
    "    h['y_encoder_res'] = np.fromfile(fid, dtype = np.float32, count = 1)\n",
    "    h['z_encoder_res'] = np.fromfile(fid, dtype = np.float32, count = 1)\n",
    "    h['date_processed'] = b''.join(np.fromfile(fid, dtype = 'S1', count = 8))\n",
    "    h['time_processed'] = b''.join(np.fromfile(fid, dtype = 'S1', count = 8))\n",
    "    h['depth_recon'] = np.fromfile(fid, dtype = np.float32, count = 1)\n",
    "    h['x_max_travel'] = np.fromfile(fid, dtype = np.float32, count = 1)\n",
    "    h['y_max_travel'] = np.fromfile(fid, dtype = np.float32, count = 1)\n",
    "    h['elevation_offset_angle'] = np.fromfile(fid, dtype = np.float32, count = 1)\n",
    "    h['roll_offset_angle'] = np.fromfile(fid, dtype = np.float32, count = 1)\n",
    "    h['z_max_travel'] = np.fromfile(fid, dtype = np.float32, count = 1)\n",
    "    h['azimuth_offset_angle'] = np.fromfile(fid, dtype = np.float32, count = 1)\n",
    "    h['adc_type'] = np.fromfile(fid, dtype = np.int16, count = 1)\n",
    "    h['spare06'] = np.fromfile(fid, dtype = np.int16, count = 1)\n",
    "    h['scanner_radius'] = np.fromfile(fid, dtype = np.float32, count = 1)\n",
    "    h['x_offset'] = np.fromfile(fid, dtype = np.float32, count = 1)\n",
    "    h['y_offset'] = np.fromfile(fid, dtype = np.float32, count = 1)\n",
    "    h['z_offset'] = np.fromfile(fid, dtype = np.float32, count = 1)\n",
    "    h['t_delay'] = np.fromfile(fid, dtype = np.float32, count = 1)\n",
    "    h['range_gate_start'] = np.fromfile(fid, dtype = np.float32, count = 1)\n",
    "    h['range_gate_end'] = np.fromfile(fid, dtype = np.float32, count = 1)\n",
    "    h['ahis_software_version'] = np.fromfile(fid, dtype = np.float32, count = 1)\n",
    "    h['spare_end'] = np.fromfile(fid, dtype = np.float32, count = 10)\n",
    "    return h"
   ]
  },
  {
   "cell_type": "code",
   "execution_count": 9,
   "metadata": {},
   "outputs": [],
   "source": [
    "# From William Curkierski Kaggle Kernal 'Reading images'\n",
    "def read_data(infile):\n",
    "    \"\"\"Read any of the 4 types of image files, returns a numpy array of the image contents\n",
    "    \"\"\"\n",
    "    extension = os.path.splitext(infile)[1]\n",
    "    h = read_header(infile)\n",
    "    nx = int(h['num_x_pts'])\n",
    "    ny = int(h['num_y_pts'])\n",
    "    nt = int(h['num_t_pts'])\n",
    "    fid = open(infile, 'rb')\n",
    "    fid.seek(512) #skip header\n",
    "    if extension == '.aps' or extension == '.a3daps':\n",
    "        if(h['word_type']==7): #float32\n",
    "            data = np.fromfile(fid, dtype = np.float32, count = nx * ny * nt)\n",
    "        elif(h['word_type']==4): #uint16\n",
    "            data = np.fromfile(fid, dtype = np.uint16, count = nx * ny * nt)\n",
    "        data = data * h['data_scale_factor'] #scaling factor\n",
    "        data = data.reshape(nx, ny, nt, order='F').copy() #make N-d image\n",
    "    elif extension == '.a3d':\n",
    "        if(h['word_type']==7): #float32\n",
    "            data = np.fromfile(fid, dtype = np.float32, count = nx * ny * nt)\n",
    "        elif(h['word_type']==4): #uint16\n",
    "            data = np.fromfile(fid, dtype = np.uint16, count = nx * ny * nt)\n",
    "        data = data * h['data_scale_factor'] #scaling factor\n",
    "        data = data.reshape(nx, nt, ny, order='F').copy() #make N-d image\n",
    "    elif extension == '.ahi':\n",
    "        data = np.fromfile(fid, dtype = np.float32, count = 2* nx * ny * nt)\n",
    "        data = data.reshape(2, ny, nx, nt, order='F').copy()\n",
    "        real = data[0,:,:,:].copy()\n",
    "        imag = data[1,:,:,:].copy()\n",
    "    fid.close()\n",
    "    if extension != '.ahi':\n",
    "        return data\n",
    "    else:\n",
    "        return real, imag"
   ]
  },
  {
   "cell_type": "code",
   "execution_count": 18,
   "metadata": {
    "collapsed": true
   },
   "outputs": [
    {
     "data": {
      "text/plain": [
       "<_io.TextIOWrapper name='/Users/Yvonne/Documents/Monday.txt' mode='r' encoding='UTF-8'>"
      ]
     },
     "execution_count": 18,
     "metadata": {},
     "output_type": "execute_result"
    }
   ],
   "source": [
    "open('/Users/Yvonne/Documents/Monday.txt')"
   ]
  },
  {
   "cell_type": "code",
   "execution_count": 22,
   "metadata": {},
   "outputs": [
    {
     "data": {
      "text/plain": [
       "{'adc_max_voltage': array([ 1.10000002], dtype=float32),\n 'adc_min_voltage': array([-1.10000002], dtype=float32),\n 'adc_type': array([17], dtype=int16),\n 'ahis_software_version': array([ 7.0999999], dtype=float32),\n 'avg_data_value': array([ 3459.02758789], dtype=float32),\n 'azimuth_offset_angle': array([ 0.], dtype=float32),\n 'band_width': array([ 30058.70898438], dtype=float32),\n 'comments1': b'                                                                                ',\n 'comments2': b'                                                                                ',\n 'config_type': array([2], dtype=int16),\n 'data_scale_factor': array([  1.66839520e-08], dtype=float32),\n 'data_storage_order': array([9], dtype=int16),\n 'data_type': array([5], dtype=int16),\n 'data_units': array([0], dtype=int16),\n 'date_modified': b'',\n 'date_processed': b'',\n 'depth_recon': array([ 0.], dtype=float32),\n 'edge_weighting': array([0], dtype=uint16),\n 'elevation_offset_angle': array([ 0.], dtype=float32),\n 'energy_type': array([2], dtype=int16),\n 'file_type': array([12], dtype=int16),\n 'filename': b'                    ',\n 'frequency': array([ 25000.], dtype=float32),\n 'mat_velocity': array([  3.00000000e+08], dtype=float32),\n 'max_data_value': array([ 65535.], dtype=float32),\n 'min_data_value': array([ 0.], dtype=float32),\n 'num_polarization_channels': array([1], dtype=int16),\n 'num_pts': array([1], dtype=int32),\n 'num_t_pts': array([16], dtype=int32),\n 'num_x_pts': array([512], dtype=int32),\n 'num_y_pts': array([660], dtype=int32),\n 'num_z_pts': array([1], dtype=int32),\n 'parent_filename': b'                    ',\n 'polarization_type': array([7, 0, 0, 0], dtype=int16),\n 'range_gate_end': array([ 1.13], dtype=float32),\n 'range_gate_start': array([ 0.13], dtype=float32),\n 'record_header_size': array([0], dtype=int16),\n 'roll_offset_angle': array([ 0.], dtype=float32),\n 'scan_direction': array([1], dtype=int16),\n 'scan_orientation': array([0], dtype=int16),\n 'scan_type': array([2], dtype=int16),\n 'scanner_radius': array([ 0.63], dtype=float32),\n 'scanner_type': array([31], dtype=int16),\n 'spare00': array([18184], dtype=int16),\n 'spare01': array([0, 0, 0, 0, 0], dtype=int16),\n 'spare02': array([0], dtype=int16),\n 'spare06': array([0], dtype=int16),\n 'spare_end': array([  0.00000000e+00,   0.00000000e+00,   0.00000000e+00,\n          0.00000000e+00,   0.00000000e+00,   4.24290082e-38,\n          3.50822582e-38,   4.33473715e-38,   2.68167328e-38,\n          3.71025017e-38], dtype=float32),\n 'surf_removal': array([0], dtype=uint16),\n 't_delay': array([ 0.], dtype=float32),\n 't_inc': array([ 22.5], dtype=float32),\n 't_units': array([4], dtype=uint16),\n 'time_processed': b'',\n 'trans_type': array([7], dtype=int16),\n 'word_precision': array([16], dtype=int16),\n 'word_type': array([4], dtype=int16),\n 'x_acc': array([ 0.166667], dtype=float32),\n 'x_encoder_res': array([ 88922.6640625], dtype=float32),\n 'x_inc': array([ 0.00195312], dtype=float32),\n 'x_max_travel': array([ 1.27777779], dtype=float32),\n 'x_motor_res': array([ 720000.], dtype=float32),\n 'x_offset': array([-0.5], dtype=float32),\n 'x_return_speed': array([ 0.15277778], dtype=float32),\n 'x_speed': array([ 0.166667], dtype=float32),\n 'x_units': array([1], dtype=uint16),\n 'y_acc': array([ 0.], dtype=float32),\n 'y_encoder_res': array([ 0.], dtype=float32),\n 'y_inc': array([ 0.003175], dtype=float32),\n 'y_max_travel': array([ 0.], dtype=float32),\n 'y_motor_res': array([ 0.], dtype=float32),\n 'y_offset': array([ 0.], dtype=float32),\n 'y_return_speed': array([ 0.], dtype=float32),\n 'y_speed': array([ 0.], dtype=float32),\n 'y_units': array([1], dtype=uint16),\n 'z_acc': array([ 0.], dtype=float32),\n 'z_encoder_res': array([ 0.], dtype=float32),\n 'z_inc': array([ 0.], dtype=float32),\n 'z_max_travel': array([ 0.], dtype=float32),\n 'z_motor_res': array([ 0.], dtype=float32),\n 'z_offset': array([ 0.], dtype=float32),\n 'z_return_speed': array([ 0.], dtype=float32),\n 'z_speed': array([ 0.], dtype=float32),\n 'z_units': array([1], dtype=uint16)}"
      ]
     },
     "execution_count": 22,
     "metadata": {},
     "output_type": "execute_result"
    }
   ],
   "source": [
    "read_header('/Users/Yvonne/Desktop/sample/0043db5e8c819bffc15261b1f1ac5e42.aps')"
   ]
  },
  {
   "cell_type": "code",
   "execution_count": null,
   "metadata": {},
   "outputs": [],
   "source": [
    ""
   ]
  },
  {
   "cell_type": "code",
   "execution_count": 21,
   "metadata": {},
   "outputs": [
    {
     "data": {
      "text/plain": [
       "array([[[  6.00622252e-06,   5.93948698e-06,   6.42332134e-06, ...,\n           9.76011233e-06,   7.22415143e-06,   5.00518581e-06],\n        [  5.72259569e-06,   4.55471900e-06,   6.30653403e-06, ...,\n           7.07399568e-06,   7.35762296e-06,   5.55575616e-06],\n        [  6.08964228e-06,   5.15534111e-06,   6.40663757e-06, ...,\n           6.28984981e-06,   5.37223241e-06,   5.05523758e-06],\n        ..., \n        [  5.40560040e-06,   5.17202534e-06,   5.05523758e-06, ...,\n           5.95617075e-06,   5.15534111e-06,   6.23979804e-06],\n        [  4.58808699e-06,   4.70487430e-06,   5.30549687e-06, ...,\n           5.38891663e-06,   5.90611899e-06,   7.54114626e-06],\n        [  4.10425218e-06,   4.75492652e-06,   4.98850159e-06, ...,\n           5.48902017e-06,   5.80601545e-06,   5.72259569e-06]],\n\n       [[  5.98953875e-06,   5.67254347e-06,   5.52238816e-06, ...,\n           6.94052414e-06,   5.78933123e-06,   4.63813876e-06],\n        [  5.43896840e-06,   5.87275099e-06,   6.25648181e-06, ...,\n           6.62352886e-06,   4.63813876e-06,   5.43896840e-06],\n        [  4.32114348e-06,   5.60580793e-06,   6.30653403e-06, ...,\n           7.15741544e-06,   6.00622252e-06,   6.03959052e-06],\n        ..., \n        [  5.45565217e-06,   4.92176605e-06,   4.20435572e-06, ...,\n           5.17202534e-06,   4.65482253e-06,   6.03959052e-06],\n        [  5.88943522e-06,   5.22207711e-06,   4.08756841e-06, ...,\n           5.12197312e-06,   5.08860558e-06,   8.07503238e-06],\n        [  4.40456324e-06,   5.28881264e-06,   4.20435572e-06, ...,\n           4.88839805e-06,   5.12197312e-06,   5.88943522e-06]],\n\n       [[  6.54010910e-06,   5.65585970e-06,   5.77264746e-06, ...,\n           6.95720792e-06,   5.35554864e-06,   3.80394113e-06],\n        [  7.72466956e-06,   4.82166206e-06,   6.17306205e-06, ...,\n           5.88943522e-06,   5.15534111e-06,   4.75492652e-06],\n        [  4.42124747e-06,   5.50570394e-06,   6.82373638e-06, ...,\n           5.55575616e-06,   6.49005733e-06,   5.52238816e-06],\n        ..., \n        [  4.38787947e-06,   5.03855335e-06,   4.60477077e-06, ...,\n           5.30549687e-06,   5.93948698e-06,   5.92280276e-06],\n        [  4.95513359e-06,   6.00622252e-06,   5.42228418e-06, ...,\n           5.17202534e-06,   5.08860558e-06,   7.15741544e-06],\n        [  4.50466723e-06,   6.28984981e-06,   4.42124747e-06, ...,\n           4.88839805e-06,   5.50570394e-06,   6.45668933e-06]],\n\n       ..., \n       [[  5.22207711e-06,   4.87171383e-06,   7.07399568e-06, ...,\n           7.05731190e-06,   7.19078344e-06,   7.25751897e-06],\n        [  4.42124747e-06,   5.85606722e-06,   7.20746721e-06, ...,\n           6.89047238e-06,   5.28881264e-06,   6.57347709e-06],\n        [  4.78829406e-06,   4.05420042e-06,   5.00518581e-06, ...,\n           6.23979804e-06,   5.77264746e-06,   6.10632651e-06],\n        ..., \n        [  6.52342533e-06,   5.78933123e-06,   4.98850159e-06, ...,\n           4.93844982e-06,   4.63813876e-06,   7.72466956e-06],\n        [  4.98850159e-06,   5.25544510e-06,   5.57243993e-06, ...,\n           5.43896840e-06,   5.23876088e-06,   9.00933446e-06],\n        [  4.25440794e-06,   5.30549687e-06,   4.67150676e-06, ...,\n           4.63813876e-06,   5.77264746e-06,   8.84249494e-06]],\n\n       [[  6.72363285e-06,   6.02290675e-06,   5.88943522e-06, ...,\n           8.52549965e-06,   8.52549965e-06,   6.18974627e-06],\n        [  4.72155853e-06,   5.48902017e-06,   6.32321780e-06, ...,\n           7.20746721e-06,   6.05627474e-06,   5.57243993e-06],\n        [  5.52238816e-06,   5.88943522e-06,   6.75700039e-06, ...,\n           6.12301028e-06,   5.85606722e-06,   6.27316604e-06],\n        ..., \n        [  5.92280276e-06,   5.37223241e-06,   4.38787947e-06, ...,\n           5.33886487e-06,   6.23979804e-06,   7.32425497e-06],\n        [  5.90611899e-06,   5.10528935e-06,   5.30549687e-06, ...,\n           4.65482253e-06,   6.27316604e-06,   7.54114626e-06],\n        [  4.77161029e-06,   5.58912370e-06,   5.07192135e-06, ...,\n           5.38891663e-06,   4.98850159e-06,   7.24083520e-06]],\n\n       [[  0.00000000e+00,   0.00000000e+00,   0.00000000e+00, ...,\n           0.00000000e+00,   0.00000000e+00,   0.00000000e+00],\n        [  0.00000000e+00,   0.00000000e+00,   0.00000000e+00, ...,\n           0.00000000e+00,   0.00000000e+00,   0.00000000e+00],\n        [  0.00000000e+00,   0.00000000e+00,   0.00000000e+00, ...,\n           0.00000000e+00,   0.00000000e+00,   0.00000000e+00],\n        ..., \n        [  0.00000000e+00,   0.00000000e+00,   0.00000000e+00, ...,\n           0.00000000e+00,   0.00000000e+00,   0.00000000e+00],\n        [  0.00000000e+00,   0.00000000e+00,   0.00000000e+00, ...,\n           0.00000000e+00,   0.00000000e+00,   0.00000000e+00],\n        [  0.00000000e+00,   0.00000000e+00,   0.00000000e+00, ...,\n           0.00000000e+00,   0.00000000e+00,   0.00000000e+00]]], dtype=float32)"
      ]
     },
     "execution_count": 21,
     "metadata": {},
     "output_type": "execute_result"
    }
   ],
   "source": [
    "read_data('/Users/Yvonne/Desktop/sample/0043db5e8c819bffc15261b1f1ac5e42.aps')"
   ]
  },
  {
   "cell_type": "code",
   "execution_count": null,
   "metadata": {},
   "outputs": [],
   "source": [
    ""
   ]
  }
 ],
 "metadata": {
  "kernelspec": {
   "display_name": "Python 2",
   "language": "python",
   "name": "python2"
  },
  "language_info": {
   "codemirror_mode": {
    "name": "ipython",
    "version": 2.0
   },
   "file_extension": ".py",
   "mimetype": "text/x-python",
   "name": "python",
   "nbconvert_exporter": "python",
   "pygments_lexer": "ipython2",
   "version": "2.7.6"
  }
 },
 "nbformat": 4,
 "nbformat_minor": 0
}